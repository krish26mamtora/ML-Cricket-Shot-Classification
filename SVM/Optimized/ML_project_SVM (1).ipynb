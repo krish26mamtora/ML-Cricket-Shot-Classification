{
  "cells": [
    {
      "cell_type": "code",
      "execution_count": 1,
      "metadata": {
        "id": "ck983AgQ8hiO"
      },
      "outputs": [],
      "source": [
        "import os"
      ]
    },
    {
      "cell_type": "code",
      "execution_count": 2,
      "metadata": {
        "id": "XXu4izjZ8kEu"
      },
      "outputs": [],
      "source": [
        "dataset_path = '/Users/krish_mamtora/Documents/codes/PythonMediapipe/ML_Project/Dataset'"
      ]
    },
    {
      "cell_type": "code",
      "execution_count": 3,
      "metadata": {
        "colab": {
          "base_uri": "https://localhost:8080/"
        },
        "id": "HB-PlUmp7Q_X",
        "outputId": "9933a27e-8f4e-4f8e-fdc9-db2f6351e41c"
      },
      "outputs": [
        {
          "name": "stdout",
          "output_type": "stream",
          "text": [
            "Classes in the dataset: ['1. Cover Drive', '.DS_Store', '2. Straight Drive', '5. Scoop Shot', '3. Pull Shot', '4. Leg Glance Shot', '0. Cut Shot']\n"
          ]
        }
      ],
      "source": [
        "print(\"Classes in the dataset:\", os.listdir(dataset_path))\n"
      ]
    },
    {
      "cell_type": "code",
      "execution_count": 4,
      "metadata": {
        "colab": {
          "base_uri": "https://localhost:8080/"
        },
        "id": "k8sXp7bZ8pSV",
        "outputId": "2efde208-b4d5-4528-8f9f-9b82cf2d53c0"
      },
      "outputs": [
        {
          "name": "stdout",
          "output_type": "stream",
          "text": [
            "Classes in the dataset: ['1. Cover Drive', '.DS_Store', '2. Straight Drive', '5. Scoop Shot', '3. Pull Shot', '4. Leg Glance Shot', '0. Cut Shot']\n"
          ]
        }
      ],
      "source": [
        "\n",
        "classes = os.listdir(dataset_path)\n",
        "print(\"Classes in the dataset:\", classes)\n"
      ]
    },
    {
      "cell_type": "code",
      "execution_count": 6,
      "metadata": {
        "colab": {
          "base_uri": "https://localhost:8080/"
        },
        "id": "-Lz6boYb9CO9",
        "outputId": "660cda63-6e14-413f-e232-c62be4df639c"
      },
      "outputs": [
        {
          "name": "stdout",
          "output_type": "stream",
          "text": [
            "Class '1. Cover Drive' contains 600 images.\n",
            "'/Users/krish_mamtora/Documents/codes/PythonMediapipe/ML_Project/Dataset/.DS_Store' is not a valid directory.\n",
            "Class '2. Straight Drive' contains 600 images.\n",
            "Class '5. Scoop Shot' contains 600 images.\n",
            "Class '3. Pull Shot' contains 601 images.\n",
            "Class '4. Leg Glance Shot' contains 600 images.\n",
            "Class '0. Cut Shot' contains 600 images.\n"
          ]
        }
      ],
      "source": [
        "for class_name in classes:\n",
        "    class_folder = os.path.join(dataset_path, class_name)\n",
        "    \n",
        "    if os.path.isdir(class_folder):\n",
        "        image_count = len([f for f in os.listdir(class_folder) if os.path.isfile(os.path.join(class_folder, f))])\n",
        "        print(f\"Class '{class_name}' contains {image_count} images.\")\n",
        "    else:\n",
        "        print(f\"'{class_folder}' is not a valid directory.\")"
      ]
    },
    {
      "cell_type": "code",
      "execution_count": 7,
      "metadata": {
        "id": "gPHZvz059DZq"
      },
      "outputs": [
        {
          "name": "stderr",
          "output_type": "stream",
          "text": [
            "/Users/krish_mamtora/Documents/codes/PythonMediapipe/myenv/lib/python3.9/site-packages/urllib3/__init__.py:35: NotOpenSSLWarning: urllib3 v2 only supports OpenSSL 1.1.1+, currently the 'ssl' module is compiled with 'LibreSSL 2.8.3'. See: https://github.com/urllib3/urllib3/issues/3020\n",
            "  warnings.warn(\n"
          ]
        }
      ],
      "source": [
        "import cv2\n",
        "import numpy as np\n",
        "from tensorflow.keras.utils import to_categorical\n"
      ]
    },
    {
      "cell_type": "code",
      "execution_count": 8,
      "metadata": {
        "id": "glCSmyj8-WJN"
      },
      "outputs": [],
      "source": [
        "IMG_SIZE = 224  \n",
        "classes = ['0. Cut Shot', '1. Cover Drive', '2. Straight Drive', '3. Pull Shot', '4. Leg Glance Shot', '5. Scoop Shot']\n",
        "class_to_label = {name: idx for idx, name in enumerate(classes)}  # Map class names to numeric labels\n"
      ]
    },
    {
      "cell_type": "code",
      "execution_count": 9,
      "metadata": {
        "id": "4Qs7KQ8F-kd1"
      },
      "outputs": [],
      "source": [
        "data = []\n",
        "labels = []\n"
      ]
    },
    {
      "cell_type": "code",
      "execution_count": 10,
      "metadata": {
        "id": "Dvvo2hCC-nVL"
      },
      "outputs": [
        {
          "name": "stdout",
          "output_type": "stream",
          "text": [
            "Failed to load /Users/krish_mamtora/Documents/codes/PythonMediapipe/ML_Project/Dataset/3. Pull Shot/.DS_Store. Skipping...\n"
          ]
        }
      ],
      "source": [
        "for class_name in classes:\n",
        "    class_folder = os.path.join(dataset_path, class_name)\n",
        "    label = class_to_label[class_name]  \n",
        "\n",
        "    for file_name in os.listdir(class_folder):\n",
        "        file_path = os.path.join(class_folder, file_name)\n",
        "\n",
        "        img = cv2.imread(file_path, cv2.IMREAD_GRAYSCALE)  \n",
        "        if img is None:\n",
        "            print(f\"Failed to load {file_path}. Skipping...\")\n",
        "            continue\n",
        "\n",
        "        img = cv2.bilateralFilter(img, 9, 75, 75)  \n",
        "\n",
        "        img = cv2.resize(img, (IMG_SIZE, IMG_SIZE))\n",
        "\n",
        "        img = img / 255.0  \n",
        "\n",
        "        img = img.flatten()\n",
        "\n",
        "        data.append(img)\n",
        "        labels.append(label)\n"
      ]
    },
    {
      "cell_type": "code",
      "execution_count": 11,
      "metadata": {
        "id": "U-X_FW4-AUJQ"
      },
      "outputs": [],
      "source": [
        "# Convert lists to NumPy arrays\n",
        "data = np.array(data, dtype=\"float32\")\n",
        "labels = np.array(labels)"
      ]
    },
    {
      "cell_type": "code",
      "execution_count": 15,
      "metadata": {
        "id": "XN9JS1TIBAaj"
      },
      "outputs": [],
      "source": [
        "import cv2\n",
        "import numpy as np\n",
        "from sklearn.model_selection import train_test_split, cross_val_score, GridSearchCV  \n",
        "from sklearn.svm import SVC\n",
        "from sklearn.decomposition import PCA\n",
        "from sklearn.metrics import classification_report, accuracy_score\n",
        "from tensorflow.keras.utils import to_categorical\n",
        "import matplotlib.pyplot as plt\n"
      ]
    },
    {
      "cell_type": "code",
      "execution_count": 16,
      "metadata": {
        "id": "_kkgVUu4AU3a"
      },
      "outputs": [],
      "source": [
        "X_train, X_test, y_train, y_test = train_test_split(data, labels, test_size=0.2, random_state=42)\n"
      ]
    },
    {
      "cell_type": "code",
      "execution_count": 17,
      "metadata": {},
      "outputs": [],
      "source": [
        "\n",
        "# Hyperparameter Tuning with GridSearchCV\n",
        "param_grid = {\n",
        "    'C': [0.1, 1, 10],\n",
        "    'kernel': ['linear', 'rbf', 'poly'],\n",
        "    'gamma': ['scale', 'auto']\n",
        "}"
      ]
    },
    {
      "cell_type": "code",
      "execution_count": 18,
      "metadata": {
        "colab": {
          "base_uri": "https://localhost:8080/",
          "height": 79
        },
        "id": "mri3uy7pAwiq",
        "outputId": "ab992101-a343-4e48-b455-efe44c7bf7dc"
      },
      "outputs": [
        {
          "name": "stdout",
          "output_type": "stream",
          "text": [
            "Fitting 5 folds for each of 18 candidates, totalling 90 fits\n",
            "[CV 1/5] END .C=0.1, gamma=scale, kernel=linear;, score=0.677 total time= 2.2min\n",
            "[CV 2/5] END .C=0.1, gamma=scale, kernel=linear;, score=0.684 total time= 2.3min\n",
            "[CV 3/5] END .C=0.1, gamma=scale, kernel=linear;, score=0.661 total time= 2.0min\n",
            "[CV 4/5] END .C=0.1, gamma=scale, kernel=linear;, score=0.691 total time= 1.9min\n",
            "[CV 5/5] END .C=0.1, gamma=scale, kernel=linear;, score=0.694 total time= 2.2min\n",
            "[CV 1/5] END ....C=0.1, gamma=scale, kernel=rbf;, score=0.399 total time= 4.8min\n",
            "[CV 2/5] END ....C=0.1, gamma=scale, kernel=rbf;, score=0.380 total time= 4.4min\n",
            "[CV 3/5] END ....C=0.1, gamma=scale, kernel=rbf;, score=0.375 total time= 4.6min\n",
            "[CV 4/5] END ....C=0.1, gamma=scale, kernel=rbf;, score=0.405 total time= 5.0min\n",
            "[CV 5/5] END ....C=0.1, gamma=scale, kernel=rbf;, score=0.425 total time= 5.0min\n",
            "[CV 1/5] END ...C=0.1, gamma=scale, kernel=poly;, score=0.608 total time= 2.8min\n",
            "[CV 2/5] END ...C=0.1, gamma=scale, kernel=poly;, score=0.620 total time= 2.4min\n",
            "[CV 3/5] END ...C=0.1, gamma=scale, kernel=poly;, score=0.618 total time= 3.3min\n",
            "[CV 4/5] END ...C=0.1, gamma=scale, kernel=poly;, score=0.582 total time= 2.9min\n",
            "[CV 5/5] END ...C=0.1, gamma=scale, kernel=poly;, score=0.630 total time= 2.8min\n",
            "[CV 1/5] END ..C=0.1, gamma=auto, kernel=linear;, score=0.677 total time= 2.3min\n",
            "[CV 2/5] END ..C=0.1, gamma=auto, kernel=linear;, score=0.684 total time= 2.5min\n",
            "[CV 3/5] END ..C=0.1, gamma=auto, kernel=linear;, score=0.661 total time= 2.6min\n",
            "[CV 4/5] END ..C=0.1, gamma=auto, kernel=linear;, score=0.691 total time= 1.9min\n",
            "[CV 5/5] END ..C=0.1, gamma=auto, kernel=linear;, score=0.694 total time= 1.9min\n",
            "[CV 1/5] END .....C=0.1, gamma=auto, kernel=rbf;, score=0.191 total time= 4.2min\n",
            "[CV 2/5] END .....C=0.1, gamma=auto, kernel=rbf;, score=0.194 total time= 4.1min\n",
            "[CV 3/5] END .....C=0.1, gamma=auto, kernel=rbf;, score=0.194 total time= 5.4min\n",
            "[CV 4/5] END .....C=0.1, gamma=auto, kernel=rbf;, score=0.188 total time= 4.5min\n",
            "[CV 5/5] END .....C=0.1, gamma=auto, kernel=rbf;, score=0.184 total time= 5.3min\n",
            "[CV 1/5] END ....C=0.1, gamma=auto, kernel=poly;, score=0.172 total time= 4.1min\n",
            "[CV 2/5] END ....C=0.1, gamma=auto, kernel=poly;, score=0.172 total time= 3.7min\n",
            "[CV 3/5] END ....C=0.1, gamma=auto, kernel=poly;, score=0.172 total time= 3.1min\n",
            "[CV 4/5] END ....C=0.1, gamma=auto, kernel=poly;, score=0.170 total time= 3.6min\n",
            "[CV 5/5] END ....C=0.1, gamma=auto, kernel=poly;, score=0.170 total time= 4.0min\n",
            "[CV 1/5] END ...C=1, gamma=scale, kernel=linear;, score=0.677 total time= 2.7min\n",
            "[CV 2/5] END ...C=1, gamma=scale, kernel=linear;, score=0.684 total time= 2.7min\n",
            "[CV 3/5] END ...C=1, gamma=scale, kernel=linear;, score=0.661 total time= 2.2min\n",
            "[CV 4/5] END ...C=1, gamma=scale, kernel=linear;, score=0.691 total time= 2.5min\n",
            "[CV 5/5] END ...C=1, gamma=scale, kernel=linear;, score=0.694 total time= 2.6min\n",
            "[CV 1/5] END ......C=1, gamma=scale, kernel=rbf;, score=0.618 total time= 4.7min\n",
            "[CV 2/5] END ......C=1, gamma=scale, kernel=rbf;, score=0.620 total time= 4.8min\n",
            "[CV 3/5] END ......C=1, gamma=scale, kernel=rbf;, score=0.653 total time= 4.6min\n",
            "[CV 4/5] END ......C=1, gamma=scale, kernel=rbf;, score=0.628 total time= 4.0min\n",
            "[CV 5/5] END ......C=1, gamma=scale, kernel=rbf;, score=0.682 total time= 3.8min\n",
            "[CV 1/5] END .....C=1, gamma=scale, kernel=poly;, score=0.681 total time= 2.0min\n",
            "[CV 2/5] END .....C=1, gamma=scale, kernel=poly;, score=0.714 total time=46.4min\n",
            "[CV 3/5] END .....C=1, gamma=scale, kernel=poly;, score=0.727 total time= 2.6min\n",
            "[CV 4/5] END .....C=1, gamma=scale, kernel=poly;, score=0.729 total time= 2.4min\n",
            "[CV 5/5] END .....C=1, gamma=scale, kernel=poly;, score=0.766 total time= 2.1min\n",
            "[CV 1/5] END ....C=1, gamma=auto, kernel=linear;, score=0.677 total time= 2.2min\n",
            "[CV 2/5] END ....C=1, gamma=auto, kernel=linear;, score=0.684 total time= 2.5min\n",
            "[CV 3/5] END ....C=1, gamma=auto, kernel=linear;, score=0.661 total time= 3.3min\n",
            "[CV 4/5] END ....C=1, gamma=auto, kernel=linear;, score=0.691 total time= 2.8min\n",
            "[CV 5/5] END ....C=1, gamma=auto, kernel=linear;, score=0.694 total time= 2.5min\n",
            "[CV 1/5] END .......C=1, gamma=auto, kernel=rbf;, score=0.450 total time= 4.6min\n",
            "[CV 2/5] END .......C=1, gamma=auto, kernel=rbf;, score=0.389 total time= 3.8min\n",
            "[CV 3/5] END .......C=1, gamma=auto, kernel=rbf;, score=0.436 total time= 4.4min\n",
            "[CV 4/5] END .......C=1, gamma=auto, kernel=rbf;, score=0.391 total time= 4.5min\n",
            "[CV 5/5] END .......C=1, gamma=auto, kernel=rbf;, score=0.405 total time= 5.3min\n",
            "[CV 1/5] END ......C=1, gamma=auto, kernel=poly;, score=0.186 total time= 4.2min\n",
            "[CV 2/5] END ......C=1, gamma=auto, kernel=poly;, score=0.186 total time= 4.5min\n",
            "[CV 3/5] END ......C=1, gamma=auto, kernel=poly;, score=0.189 total time= 3.9min\n",
            "[CV 4/5] END ......C=1, gamma=auto, kernel=poly;, score=0.186 total time= 4.3min\n",
            "[CV 5/5] END ......C=1, gamma=auto, kernel=poly;, score=0.191 total time= 4.3min\n",
            "[CV 1/5] END ..C=10, gamma=scale, kernel=linear;, score=0.677 total time= 2.4min\n",
            "[CV 2/5] END ..C=10, gamma=scale, kernel=linear;, score=0.684 total time= 2.9min\n",
            "[CV 3/5] END ..C=10, gamma=scale, kernel=linear;, score=0.661 total time= 2.3min\n",
            "[CV 4/5] END ..C=10, gamma=scale, kernel=linear;, score=0.691 total time= 2.3min\n",
            "[CV 5/5] END ..C=10, gamma=scale, kernel=linear;, score=0.694 total time= 2.3min\n",
            "[CV 1/5] END .....C=10, gamma=scale, kernel=rbf;, score=0.715 total time= 3.7min\n",
            "[CV 2/5] END .....C=10, gamma=scale, kernel=rbf;, score=0.743 total time= 3.7min\n",
            "[CV 3/5] END .....C=10, gamma=scale, kernel=rbf;, score=0.766 total time= 3.8min\n",
            "[CV 4/5] END .....C=10, gamma=scale, kernel=rbf;, score=0.745 total time= 4.0min\n",
            "[CV 5/5] END .....C=10, gamma=scale, kernel=rbf;, score=0.783 total time= 4.1min\n",
            "[CV 1/5] END ....C=10, gamma=scale, kernel=poly;, score=0.700 total time= 2.2min\n",
            "[CV 2/5] END ....C=10, gamma=scale, kernel=poly;, score=0.745 total time= 2.0min\n",
            "[CV 3/5] END ....C=10, gamma=scale, kernel=poly;, score=0.740 total time= 1.8min\n",
            "[CV 4/5] END ....C=10, gamma=scale, kernel=poly;, score=0.726 total time= 1.9min\n",
            "[CV 5/5] END ....C=10, gamma=scale, kernel=poly;, score=0.773 total time= 2.1min\n",
            "[CV 1/5] END ...C=10, gamma=auto, kernel=linear;, score=0.677 total time= 2.3min\n",
            "[CV 2/5] END ...C=10, gamma=auto, kernel=linear;, score=0.684 total time= 2.5min\n",
            "[CV 3/5] END ...C=10, gamma=auto, kernel=linear;, score=0.661 total time= 2.4min\n",
            "[CV 4/5] END ...C=10, gamma=auto, kernel=linear;, score=0.691 total time= 2.4min\n",
            "[CV 5/5] END ...C=10, gamma=auto, kernel=linear;, score=0.694 total time= 2.2min\n",
            "[CV 1/5] END ......C=10, gamma=auto, kernel=rbf;, score=0.556 total time= 3.5min\n",
            "[CV 2/5] END ......C=10, gamma=auto, kernel=rbf;, score=0.545 total time= 3.9min\n",
            "[CV 3/5] END ......C=10, gamma=auto, kernel=rbf;, score=0.562 total time= 3.6min\n",
            "[CV 4/5] END ......C=10, gamma=auto, kernel=rbf;, score=0.549 total time= 3.2min\n",
            "[CV 5/5] END ......C=10, gamma=auto, kernel=rbf;, score=0.582 total time= 3.7min\n",
            "[CV 1/5] END .....C=10, gamma=auto, kernel=poly;, score=0.281 total time= 3.1min\n",
            "[CV 2/5] END .....C=10, gamma=auto, kernel=poly;, score=0.316 total time= 3.2min\n",
            "[CV 3/5] END .....C=10, gamma=auto, kernel=poly;, score=0.278 total time= 3.7min\n",
            "[CV 4/5] END .....C=10, gamma=auto, kernel=poly;, score=0.274 total time= 3.5min\n",
            "[CV 5/5] END .....C=10, gamma=auto, kernel=poly;, score=0.267 total time= 3.9min\n"
          ]
        },
        {
          "data": {
            "text/html": [
              "<style>#sk-container-id-1 {\n",
              "  /* Definition of color scheme common for light and dark mode */\n",
              "  --sklearn-color-text: #000;\n",
              "  --sklearn-color-text-muted: #666;\n",
              "  --sklearn-color-line: gray;\n",
              "  /* Definition of color scheme for unfitted estimators */\n",
              "  --sklearn-color-unfitted-level-0: #fff5e6;\n",
              "  --sklearn-color-unfitted-level-1: #f6e4d2;\n",
              "  --sklearn-color-unfitted-level-2: #ffe0b3;\n",
              "  --sklearn-color-unfitted-level-3: chocolate;\n",
              "  /* Definition of color scheme for fitted estimators */\n",
              "  --sklearn-color-fitted-level-0: #f0f8ff;\n",
              "  --sklearn-color-fitted-level-1: #d4ebff;\n",
              "  --sklearn-color-fitted-level-2: #b3dbfd;\n",
              "  --sklearn-color-fitted-level-3: cornflowerblue;\n",
              "\n",
              "  /* Specific color for light theme */\n",
              "  --sklearn-color-text-on-default-background: var(--sg-text-color, var(--theme-code-foreground, var(--jp-content-font-color1, black)));\n",
              "  --sklearn-color-background: var(--sg-background-color, var(--theme-background, var(--jp-layout-color0, white)));\n",
              "  --sklearn-color-border-box: var(--sg-text-color, var(--theme-code-foreground, var(--jp-content-font-color1, black)));\n",
              "  --sklearn-color-icon: #696969;\n",
              "\n",
              "  @media (prefers-color-scheme: dark) {\n",
              "    /* Redefinition of color scheme for dark theme */\n",
              "    --sklearn-color-text-on-default-background: var(--sg-text-color, var(--theme-code-foreground, var(--jp-content-font-color1, white)));\n",
              "    --sklearn-color-background: var(--sg-background-color, var(--theme-background, var(--jp-layout-color0, #111)));\n",
              "    --sklearn-color-border-box: var(--sg-text-color, var(--theme-code-foreground, var(--jp-content-font-color1, white)));\n",
              "    --sklearn-color-icon: #878787;\n",
              "  }\n",
              "}\n",
              "\n",
              "#sk-container-id-1 {\n",
              "  color: var(--sklearn-color-text);\n",
              "}\n",
              "\n",
              "#sk-container-id-1 pre {\n",
              "  padding: 0;\n",
              "}\n",
              "\n",
              "#sk-container-id-1 input.sk-hidden--visually {\n",
              "  border: 0;\n",
              "  clip: rect(1px 1px 1px 1px);\n",
              "  clip: rect(1px, 1px, 1px, 1px);\n",
              "  height: 1px;\n",
              "  margin: -1px;\n",
              "  overflow: hidden;\n",
              "  padding: 0;\n",
              "  position: absolute;\n",
              "  width: 1px;\n",
              "}\n",
              "\n",
              "#sk-container-id-1 div.sk-dashed-wrapped {\n",
              "  border: 1px dashed var(--sklearn-color-line);\n",
              "  margin: 0 0.4em 0.5em 0.4em;\n",
              "  box-sizing: border-box;\n",
              "  padding-bottom: 0.4em;\n",
              "  background-color: var(--sklearn-color-background);\n",
              "}\n",
              "\n",
              "#sk-container-id-1 div.sk-container {\n",
              "  /* jupyter's `normalize.less` sets `[hidden] { display: none; }`\n",
              "     but bootstrap.min.css set `[hidden] { display: none !important; }`\n",
              "     so we also need the `!important` here to be able to override the\n",
              "     default hidden behavior on the sphinx rendered scikit-learn.org.\n",
              "     See: https://github.com/scikit-learn/scikit-learn/issues/21755 */\n",
              "  display: inline-block !important;\n",
              "  position: relative;\n",
              "}\n",
              "\n",
              "#sk-container-id-1 div.sk-text-repr-fallback {\n",
              "  display: none;\n",
              "}\n",
              "\n",
              "div.sk-parallel-item,\n",
              "div.sk-serial,\n",
              "div.sk-item {\n",
              "  /* draw centered vertical line to link estimators */\n",
              "  background-image: linear-gradient(var(--sklearn-color-text-on-default-background), var(--sklearn-color-text-on-default-background));\n",
              "  background-size: 2px 100%;\n",
              "  background-repeat: no-repeat;\n",
              "  background-position: center center;\n",
              "}\n",
              "\n",
              "/* Parallel-specific style estimator block */\n",
              "\n",
              "#sk-container-id-1 div.sk-parallel-item::after {\n",
              "  content: \"\";\n",
              "  width: 100%;\n",
              "  border-bottom: 2px solid var(--sklearn-color-text-on-default-background);\n",
              "  flex-grow: 1;\n",
              "}\n",
              "\n",
              "#sk-container-id-1 div.sk-parallel {\n",
              "  display: flex;\n",
              "  align-items: stretch;\n",
              "  justify-content: center;\n",
              "  background-color: var(--sklearn-color-background);\n",
              "  position: relative;\n",
              "}\n",
              "\n",
              "#sk-container-id-1 div.sk-parallel-item {\n",
              "  display: flex;\n",
              "  flex-direction: column;\n",
              "}\n",
              "\n",
              "#sk-container-id-1 div.sk-parallel-item:first-child::after {\n",
              "  align-self: flex-end;\n",
              "  width: 50%;\n",
              "}\n",
              "\n",
              "#sk-container-id-1 div.sk-parallel-item:last-child::after {\n",
              "  align-self: flex-start;\n",
              "  width: 50%;\n",
              "}\n",
              "\n",
              "#sk-container-id-1 div.sk-parallel-item:only-child::after {\n",
              "  width: 0;\n",
              "}\n",
              "\n",
              "/* Serial-specific style estimator block */\n",
              "\n",
              "#sk-container-id-1 div.sk-serial {\n",
              "  display: flex;\n",
              "  flex-direction: column;\n",
              "  align-items: center;\n",
              "  background-color: var(--sklearn-color-background);\n",
              "  padding-right: 1em;\n",
              "  padding-left: 1em;\n",
              "}\n",
              "\n",
              "\n",
              "/* Toggleable style: style used for estimator/Pipeline/ColumnTransformer box that is\n",
              "clickable and can be expanded/collapsed.\n",
              "- Pipeline and ColumnTransformer use this feature and define the default style\n",
              "- Estimators will overwrite some part of the style using the `sk-estimator` class\n",
              "*/\n",
              "\n",
              "/* Pipeline and ColumnTransformer style (default) */\n",
              "\n",
              "#sk-container-id-1 div.sk-toggleable {\n",
              "  /* Default theme specific background. It is overwritten whether we have a\n",
              "  specific estimator or a Pipeline/ColumnTransformer */\n",
              "  background-color: var(--sklearn-color-background);\n",
              "}\n",
              "\n",
              "/* Toggleable label */\n",
              "#sk-container-id-1 label.sk-toggleable__label {\n",
              "  cursor: pointer;\n",
              "  display: flex;\n",
              "  width: 100%;\n",
              "  margin-bottom: 0;\n",
              "  padding: 0.5em;\n",
              "  box-sizing: border-box;\n",
              "  text-align: center;\n",
              "  align-items: start;\n",
              "  justify-content: space-between;\n",
              "  gap: 0.5em;\n",
              "}\n",
              "\n",
              "#sk-container-id-1 label.sk-toggleable__label .caption {\n",
              "  font-size: 0.6rem;\n",
              "  font-weight: lighter;\n",
              "  color: var(--sklearn-color-text-muted);\n",
              "}\n",
              "\n",
              "#sk-container-id-1 label.sk-toggleable__label-arrow:before {\n",
              "  /* Arrow on the left of the label */\n",
              "  content: \"▸\";\n",
              "  float: left;\n",
              "  margin-right: 0.25em;\n",
              "  color: var(--sklearn-color-icon);\n",
              "}\n",
              "\n",
              "#sk-container-id-1 label.sk-toggleable__label-arrow:hover:before {\n",
              "  color: var(--sklearn-color-text);\n",
              "}\n",
              "\n",
              "/* Toggleable content - dropdown */\n",
              "\n",
              "#sk-container-id-1 div.sk-toggleable__content {\n",
              "  max-height: 0;\n",
              "  max-width: 0;\n",
              "  overflow: hidden;\n",
              "  text-align: left;\n",
              "  /* unfitted */\n",
              "  background-color: var(--sklearn-color-unfitted-level-0);\n",
              "}\n",
              "\n",
              "#sk-container-id-1 div.sk-toggleable__content.fitted {\n",
              "  /* fitted */\n",
              "  background-color: var(--sklearn-color-fitted-level-0);\n",
              "}\n",
              "\n",
              "#sk-container-id-1 div.sk-toggleable__content pre {\n",
              "  margin: 0.2em;\n",
              "  border-radius: 0.25em;\n",
              "  color: var(--sklearn-color-text);\n",
              "  /* unfitted */\n",
              "  background-color: var(--sklearn-color-unfitted-level-0);\n",
              "}\n",
              "\n",
              "#sk-container-id-1 div.sk-toggleable__content.fitted pre {\n",
              "  /* unfitted */\n",
              "  background-color: var(--sklearn-color-fitted-level-0);\n",
              "}\n",
              "\n",
              "#sk-container-id-1 input.sk-toggleable__control:checked~div.sk-toggleable__content {\n",
              "  /* Expand drop-down */\n",
              "  max-height: 200px;\n",
              "  max-width: 100%;\n",
              "  overflow: auto;\n",
              "}\n",
              "\n",
              "#sk-container-id-1 input.sk-toggleable__control:checked~label.sk-toggleable__label-arrow:before {\n",
              "  content: \"▾\";\n",
              "}\n",
              "\n",
              "/* Pipeline/ColumnTransformer-specific style */\n",
              "\n",
              "#sk-container-id-1 div.sk-label input.sk-toggleable__control:checked~label.sk-toggleable__label {\n",
              "  color: var(--sklearn-color-text);\n",
              "  background-color: var(--sklearn-color-unfitted-level-2);\n",
              "}\n",
              "\n",
              "#sk-container-id-1 div.sk-label.fitted input.sk-toggleable__control:checked~label.sk-toggleable__label {\n",
              "  background-color: var(--sklearn-color-fitted-level-2);\n",
              "}\n",
              "\n",
              "/* Estimator-specific style */\n",
              "\n",
              "/* Colorize estimator box */\n",
              "#sk-container-id-1 div.sk-estimator input.sk-toggleable__control:checked~label.sk-toggleable__label {\n",
              "  /* unfitted */\n",
              "  background-color: var(--sklearn-color-unfitted-level-2);\n",
              "}\n",
              "\n",
              "#sk-container-id-1 div.sk-estimator.fitted input.sk-toggleable__control:checked~label.sk-toggleable__label {\n",
              "  /* fitted */\n",
              "  background-color: var(--sklearn-color-fitted-level-2);\n",
              "}\n",
              "\n",
              "#sk-container-id-1 div.sk-label label.sk-toggleable__label,\n",
              "#sk-container-id-1 div.sk-label label {\n",
              "  /* The background is the default theme color */\n",
              "  color: var(--sklearn-color-text-on-default-background);\n",
              "}\n",
              "\n",
              "/* On hover, darken the color of the background */\n",
              "#sk-container-id-1 div.sk-label:hover label.sk-toggleable__label {\n",
              "  color: var(--sklearn-color-text);\n",
              "  background-color: var(--sklearn-color-unfitted-level-2);\n",
              "}\n",
              "\n",
              "/* Label box, darken color on hover, fitted */\n",
              "#sk-container-id-1 div.sk-label.fitted:hover label.sk-toggleable__label.fitted {\n",
              "  color: var(--sklearn-color-text);\n",
              "  background-color: var(--sklearn-color-fitted-level-2);\n",
              "}\n",
              "\n",
              "/* Estimator label */\n",
              "\n",
              "#sk-container-id-1 div.sk-label label {\n",
              "  font-family: monospace;\n",
              "  font-weight: bold;\n",
              "  display: inline-block;\n",
              "  line-height: 1.2em;\n",
              "}\n",
              "\n",
              "#sk-container-id-1 div.sk-label-container {\n",
              "  text-align: center;\n",
              "}\n",
              "\n",
              "/* Estimator-specific */\n",
              "#sk-container-id-1 div.sk-estimator {\n",
              "  font-family: monospace;\n",
              "  border: 1px dotted var(--sklearn-color-border-box);\n",
              "  border-radius: 0.25em;\n",
              "  box-sizing: border-box;\n",
              "  margin-bottom: 0.5em;\n",
              "  /* unfitted */\n",
              "  background-color: var(--sklearn-color-unfitted-level-0);\n",
              "}\n",
              "\n",
              "#sk-container-id-1 div.sk-estimator.fitted {\n",
              "  /* fitted */\n",
              "  background-color: var(--sklearn-color-fitted-level-0);\n",
              "}\n",
              "\n",
              "/* on hover */\n",
              "#sk-container-id-1 div.sk-estimator:hover {\n",
              "  /* unfitted */\n",
              "  background-color: var(--sklearn-color-unfitted-level-2);\n",
              "}\n",
              "\n",
              "#sk-container-id-1 div.sk-estimator.fitted:hover {\n",
              "  /* fitted */\n",
              "  background-color: var(--sklearn-color-fitted-level-2);\n",
              "}\n",
              "\n",
              "/* Specification for estimator info (e.g. \"i\" and \"?\") */\n",
              "\n",
              "/* Common style for \"i\" and \"?\" */\n",
              "\n",
              ".sk-estimator-doc-link,\n",
              "a:link.sk-estimator-doc-link,\n",
              "a:visited.sk-estimator-doc-link {\n",
              "  float: right;\n",
              "  font-size: smaller;\n",
              "  line-height: 1em;\n",
              "  font-family: monospace;\n",
              "  background-color: var(--sklearn-color-background);\n",
              "  border-radius: 1em;\n",
              "  height: 1em;\n",
              "  width: 1em;\n",
              "  text-decoration: none !important;\n",
              "  margin-left: 0.5em;\n",
              "  text-align: center;\n",
              "  /* unfitted */\n",
              "  border: var(--sklearn-color-unfitted-level-1) 1pt solid;\n",
              "  color: var(--sklearn-color-unfitted-level-1);\n",
              "}\n",
              "\n",
              ".sk-estimator-doc-link.fitted,\n",
              "a:link.sk-estimator-doc-link.fitted,\n",
              "a:visited.sk-estimator-doc-link.fitted {\n",
              "  /* fitted */\n",
              "  border: var(--sklearn-color-fitted-level-1) 1pt solid;\n",
              "  color: var(--sklearn-color-fitted-level-1);\n",
              "}\n",
              "\n",
              "/* On hover */\n",
              "div.sk-estimator:hover .sk-estimator-doc-link:hover,\n",
              ".sk-estimator-doc-link:hover,\n",
              "div.sk-label-container:hover .sk-estimator-doc-link:hover,\n",
              ".sk-estimator-doc-link:hover {\n",
              "  /* unfitted */\n",
              "  background-color: var(--sklearn-color-unfitted-level-3);\n",
              "  color: var(--sklearn-color-background);\n",
              "  text-decoration: none;\n",
              "}\n",
              "\n",
              "div.sk-estimator.fitted:hover .sk-estimator-doc-link.fitted:hover,\n",
              ".sk-estimator-doc-link.fitted:hover,\n",
              "div.sk-label-container:hover .sk-estimator-doc-link.fitted:hover,\n",
              ".sk-estimator-doc-link.fitted:hover {\n",
              "  /* fitted */\n",
              "  background-color: var(--sklearn-color-fitted-level-3);\n",
              "  color: var(--sklearn-color-background);\n",
              "  text-decoration: none;\n",
              "}\n",
              "\n",
              "/* Span, style for the box shown on hovering the info icon */\n",
              ".sk-estimator-doc-link span {\n",
              "  display: none;\n",
              "  z-index: 9999;\n",
              "  position: relative;\n",
              "  font-weight: normal;\n",
              "  right: .2ex;\n",
              "  padding: .5ex;\n",
              "  margin: .5ex;\n",
              "  width: min-content;\n",
              "  min-width: 20ex;\n",
              "  max-width: 50ex;\n",
              "  color: var(--sklearn-color-text);\n",
              "  box-shadow: 2pt 2pt 4pt #999;\n",
              "  /* unfitted */\n",
              "  background: var(--sklearn-color-unfitted-level-0);\n",
              "  border: .5pt solid var(--sklearn-color-unfitted-level-3);\n",
              "}\n",
              "\n",
              ".sk-estimator-doc-link.fitted span {\n",
              "  /* fitted */\n",
              "  background: var(--sklearn-color-fitted-level-0);\n",
              "  border: var(--sklearn-color-fitted-level-3);\n",
              "}\n",
              "\n",
              ".sk-estimator-doc-link:hover span {\n",
              "  display: block;\n",
              "}\n",
              "\n",
              "/* \"?\"-specific style due to the `<a>` HTML tag */\n",
              "\n",
              "#sk-container-id-1 a.estimator_doc_link {\n",
              "  float: right;\n",
              "  font-size: 1rem;\n",
              "  line-height: 1em;\n",
              "  font-family: monospace;\n",
              "  background-color: var(--sklearn-color-background);\n",
              "  border-radius: 1rem;\n",
              "  height: 1rem;\n",
              "  width: 1rem;\n",
              "  text-decoration: none;\n",
              "  /* unfitted */\n",
              "  color: var(--sklearn-color-unfitted-level-1);\n",
              "  border: var(--sklearn-color-unfitted-level-1) 1pt solid;\n",
              "}\n",
              "\n",
              "#sk-container-id-1 a.estimator_doc_link.fitted {\n",
              "  /* fitted */\n",
              "  border: var(--sklearn-color-fitted-level-1) 1pt solid;\n",
              "  color: var(--sklearn-color-fitted-level-1);\n",
              "}\n",
              "\n",
              "/* On hover */\n",
              "#sk-container-id-1 a.estimator_doc_link:hover {\n",
              "  /* unfitted */\n",
              "  background-color: var(--sklearn-color-unfitted-level-3);\n",
              "  color: var(--sklearn-color-background);\n",
              "  text-decoration: none;\n",
              "}\n",
              "\n",
              "#sk-container-id-1 a.estimator_doc_link.fitted:hover {\n",
              "  /* fitted */\n",
              "  background-color: var(--sklearn-color-fitted-level-3);\n",
              "}\n",
              "</style><div id=\"sk-container-id-1\" class=\"sk-top-container\"><div class=\"sk-text-repr-fallback\"><pre>GridSearchCV(cv=5, estimator=SVC(),\n",
              "             param_grid={&#x27;C&#x27;: [0.1, 1, 10], &#x27;gamma&#x27;: [&#x27;scale&#x27;, &#x27;auto&#x27;],\n",
              "                         &#x27;kernel&#x27;: [&#x27;linear&#x27;, &#x27;rbf&#x27;, &#x27;poly&#x27;]},\n",
              "             verbose=3)</pre><b>In a Jupyter environment, please rerun this cell to show the HTML representation or trust the notebook. <br />On GitHub, the HTML representation is unable to render, please try loading this page with nbviewer.org.</b></div><div class=\"sk-container\" hidden><div class=\"sk-item sk-dashed-wrapped\"><div class=\"sk-label-container\"><div class=\"sk-label fitted sk-toggleable\"><input class=\"sk-toggleable__control sk-hidden--visually\" id=\"sk-estimator-id-1\" type=\"checkbox\" ><label for=\"sk-estimator-id-1\" class=\"sk-toggleable__label fitted sk-toggleable__label-arrow\"><div><div>GridSearchCV</div></div><div><a class=\"sk-estimator-doc-link fitted\" rel=\"noreferrer\" target=\"_blank\" href=\"https://scikit-learn.org/1.6/modules/generated/sklearn.model_selection.GridSearchCV.html\">?<span>Documentation for GridSearchCV</span></a><span class=\"sk-estimator-doc-link fitted\">i<span>Fitted</span></span></div></label><div class=\"sk-toggleable__content fitted\"><pre>GridSearchCV(cv=5, estimator=SVC(),\n",
              "             param_grid={&#x27;C&#x27;: [0.1, 1, 10], &#x27;gamma&#x27;: [&#x27;scale&#x27;, &#x27;auto&#x27;],\n",
              "                         &#x27;kernel&#x27;: [&#x27;linear&#x27;, &#x27;rbf&#x27;, &#x27;poly&#x27;]},\n",
              "             verbose=3)</pre></div> </div></div><div class=\"sk-parallel\"><div class=\"sk-parallel-item\"><div class=\"sk-item\"><div class=\"sk-label-container\"><div class=\"sk-label fitted sk-toggleable\"><input class=\"sk-toggleable__control sk-hidden--visually\" id=\"sk-estimator-id-2\" type=\"checkbox\" ><label for=\"sk-estimator-id-2\" class=\"sk-toggleable__label fitted sk-toggleable__label-arrow\"><div><div>best_estimator_: SVC</div></div></label><div class=\"sk-toggleable__content fitted\"><pre>SVC(C=10)</pre></div> </div></div><div class=\"sk-serial\"><div class=\"sk-item\"><div class=\"sk-estimator fitted sk-toggleable\"><input class=\"sk-toggleable__control sk-hidden--visually\" id=\"sk-estimator-id-3\" type=\"checkbox\" ><label for=\"sk-estimator-id-3\" class=\"sk-toggleable__label fitted sk-toggleable__label-arrow\"><div><div>SVC</div></div><div><a class=\"sk-estimator-doc-link fitted\" rel=\"noreferrer\" target=\"_blank\" href=\"https://scikit-learn.org/1.6/modules/generated/sklearn.svm.SVC.html\">?<span>Documentation for SVC</span></a></div></label><div class=\"sk-toggleable__content fitted\"><pre>SVC(C=10)</pre></div> </div></div></div></div></div></div></div></div></div>"
            ],
            "text/plain": [
              "GridSearchCV(cv=5, estimator=SVC(),\n",
              "             param_grid={'C': [0.1, 1, 10], 'gamma': ['scale', 'auto'],\n",
              "                         'kernel': ['linear', 'rbf', 'poly']},\n",
              "             verbose=3)"
            ]
          },
          "execution_count": 18,
          "metadata": {},
          "output_type": "execute_result"
        }
      ],
      "source": [
        "# Train an SVM classifier\n",
        "# svm_classifier = SVC(kernel='linear')  # You can try other kernels like 'rbf' or 'poly'\n",
        "# svm_classifier.fit(X_train, y_train)\n",
        "# GridSearchCV for hyperparameter tuning\n",
        "grid_search = GridSearchCV(SVC(), param_grid, refit=True, verbose=3, cv=5)  # 5-fold cross-validation\n",
        "grid_search.fit(X_train, y_train)"
      ]
    },
    {
      "cell_type": "code",
      "execution_count": 19,
      "metadata": {},
      "outputs": [
        {
          "name": "stdout",
          "output_type": "stream",
          "text": [
            "Best parameters found:  {'C': 10, 'gamma': 'scale', 'kernel': 'rbf'}\n"
          ]
        }
      ],
      "source": [
        "# Best hyperparameters from GridSearchCV\n",
        "print(\"Best parameters found: \", grid_search.best_params_)"
      ]
    },
    {
      "cell_type": "code",
      "execution_count": 20,
      "metadata": {},
      "outputs": [],
      "source": [
        "# Train the model with the best parameters found\n",
        "svm_classifier = grid_search.best_estimator_"
      ]
    },
    {
      "cell_type": "code",
      "execution_count": 21,
      "metadata": {
        "id": "NcNalFJqBf3b"
      },
      "outputs": [],
      "source": [
        "y_pred = svm_classifier.predict(X_test)\n"
      ]
    },
    {
      "cell_type": "code",
      "execution_count": 22,
      "metadata": {
        "colab": {
          "base_uri": "https://localhost:8080/"
        },
        "id": "ruI4T-k2Bn8k",
        "outputId": "e45f59e5-0a13-40ce-813b-324752bef30b"
      },
      "outputs": [
        {
          "name": "stdout",
          "output_type": "stream",
          "text": [
            "Classification Report:\n",
            "                     precision    recall  f1-score   support\n",
            "\n",
            "       0. Cut Shot       0.78      0.69      0.73       147\n",
            "    1. Cover Drive       0.79      0.75      0.77       119\n",
            " 2. Straight Drive       0.79      0.78      0.78       119\n",
            "      3. Pull Shot       0.73      0.74      0.74       111\n",
            "4. Leg Glance Shot       0.74      0.85      0.79       117\n",
            "     5. Scoop Shot       0.80      0.85      0.82       107\n",
            "\n",
            "          accuracy                           0.77       720\n",
            "         macro avg       0.77      0.78      0.77       720\n",
            "      weighted avg       0.77      0.77      0.77       720\n",
            "\n",
            "Accuracy Score: 0.7722222222222223\n"
          ]
        }
      ],
      "source": [
        "print(\"Classification Report:\\n\", classification_report(y_test, y_pred, target_names=classes))\n",
        "print(\"Accuracy Score:\", accuracy_score(y_test, y_pred))\n"
      ]
    },
    {
      "cell_type": "code",
      "execution_count": null,
      "metadata": {
        "id": "rk0jQ8H8USKw"
      },
      "outputs": [],
      "source": [
        "#output visualization"
      ]
    },
    {
      "cell_type": "code",
      "execution_count": 23,
      "metadata": {
        "id": "qOH1lj5QVlvZ"
      },
      "outputs": [
        {
          "data": {
            "image/png": "[encoded data removed]",
            "text/plain": [
              "<Figure size 640x480 with 2 Axes>"
            ]
          },
          "metadata": {},
          "output_type": "display_data"
        }
      ],
      "source": [
        "from sklearn.metrics import confusion_matrix, ConfusionMatrixDisplay\n",
        "\n",
        "# Compute confusion matrix\n",
        "cm = confusion_matrix(y_test, y_pred)\n",
        "\n",
        "# Display the confusion matrix\n",
        "disp = ConfusionMatrixDisplay(confusion_matrix=cm, display_labels=classes)\n",
        "disp.plot(cmap='Blues')\n",
        "plt.title('Confusion Matrix')\n",
        "plt.show()\n"
      ]
    }
  ],
  "metadata": {
    "colab": {
      "provenance": []
    },
    "kernelspec": {
      "display_name": "Python 3",
      "language": "python",
      "name": "python3"
    },
    "language_info": {
      "codemirror_mode": {
        "name": "ipython",
        "version": 3
      },
      "file_extension": ".py",
      "mimetype": "text/x-python",
      "name": "python",
      "nbconvert_exporter": "python",
      "pygments_lexer": "ipython3",
      "version": "3.9.20"
    }
  },
  "nbformat": 4,
  "nbformat_minor": 0
}
